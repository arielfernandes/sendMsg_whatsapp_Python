{
 "cells": [
  {
   "cell_type": "code",
   "execution_count": 81,
   "id": "8be07c8c-f426-4591-8123-f51a507ac993",
   "metadata": {},
   "outputs": [],
   "source": [
    "import pandas as pd"
   ]
  },
  {
   "cell_type": "code",
   "execution_count": 83,
   "id": "27cec56d-0de3-4b52-9b0b-1740d6a55ca8",
   "metadata": {},
   "outputs": [
    {
     "data": {
      "text/html": [
       "<div>\n",
       "<style scoped>\n",
       "    .dataframe tbody tr th:only-of-type {\n",
       "        vertical-align: middle;\n",
       "    }\n",
       "\n",
       "    .dataframe tbody tr th {\n",
       "        vertical-align: top;\n",
       "    }\n",
       "\n",
       "    .dataframe thead th {\n",
       "        text-align: right;\n",
       "    }\n",
       "</style>\n",
       "<table border=\"1\" class=\"dataframe\">\n",
       "  <thead>\n",
       "    <tr style=\"text-align: right;\">\n",
       "      <th></th>\n",
       "      <th>Pessoa</th>\n",
       "      <th>Numero</th>\n",
       "      <th>Mensagem</th>\n",
       "    </tr>\n",
       "  </thead>\n",
       "  <tbody>\n",
       "    <tr>\n",
       "      <th>0</th>\n",
       "      <td>Lucas Becker</td>\n",
       "      <td>554888238873</td>\n",
       "      <td>Essa mensagem foi enviado via python</td>\n",
       "    </tr>\n",
       "    <tr>\n",
       "      <th>1</th>\n",
       "      <td>Douglas IFSC</td>\n",
       "      <td>554896857941</td>\n",
       "      <td>Essa mensagem foi enviado via python</td>\n",
       "    </tr>\n",
       "    <tr>\n",
       "      <th>2</th>\n",
       "      <td>Sabrina</td>\n",
       "      <td>554885067117</td>\n",
       "      <td>Essa mensagem foi enviado via python</td>\n",
       "    </tr>\n",
       "  </tbody>\n",
       "</table>\n",
       "</div>"
      ],
      "text/plain": [
       "         Pessoa        Numero                              Mensagem\n",
       "0  Lucas Becker  554888238873  Essa mensagem foi enviado via python\n",
       "1  Douglas IFSC  554896857941  Essa mensagem foi enviado via python\n",
       "2       Sabrina  554885067117  Essa mensagem foi enviado via python"
      ]
     },
     "metadata": {},
     "output_type": "display_data"
    }
   ],
   "source": [
    "df = pd.read_csv(\"contatos.csv\", encoding ='utf8')\n",
    "display(df)\n"
   ]
  },
  {
   "cell_type": "code",
   "execution_count": 94,
   "id": "5fb38db5-5fd7-4e57-b987-63f55aff91c3",
   "metadata": {},
   "outputs": [],
   "source": [
    "from selenium.webdriver import firefox\n",
    "from selenium.webdriver.common.keys import Keys\n",
    "import time\n",
    "import urllib\n",
    "\n",
    "browser = webdriver.Firefox()\n",
    "browser.get(\"https://web.whatsapp.com/\")\n",
    "\n",
    "while len(browser.find_elements_by_id(\"side\")) < 1:\n",
    "    time.sleep(1)\n",
    "\n",
    "#logado\n",
    "for i, mensagem in enumerate(df['Mensagem']):\n",
    "    pessoa = df.loc[i,\"Pessoa\"]\n",
    "    numero = df.loc[i, \"Numero\"]\n",
    "    texto = urllib.parse.quote(f\"Oi, {pessoa}! {mensagem}\")\n",
    "    link = f\"https://web.whatsapp.com/send?phone={numero}&text={texto}\"\n",
    "    browser.get(link)\n",
    "    while len(browser.find_elements_by_id(\"side\")) < 1:\n",
    "        time.sleep(1)\n",
    "  #  browser.find_element_by_class_name('_4sWnG').send_keys(Keys.ENTER)\n",
    "    time.sleep(10)\n",
    "    browser.find_element_by_xpath('/html/body/div/div[1]/div[1]/div[4]/div[1]/footer/div[1]/div[2]/div/div[1]/div/div[2]').send_keys(Keys.ENTER)\n",
    "    time.sleep(10)\n",
    "   "
   ]
  },
  {
   "cell_type": "code",
   "execution_count": null,
   "id": "075fbab2-061c-48fc-89c5-bc28f4538006",
   "metadata": {},
   "outputs": [],
   "source": []
  }
 ],
 "metadata": {
  "kernelspec": {
   "display_name": "Python 3 (ipykernel)",
   "language": "python",
   "name": "python3"
  },
  "language_info": {
   "codemirror_mode": {
    "name": "ipython",
    "version": 3
   },
   "file_extension": ".py",
   "mimetype": "text/x-python",
   "name": "python",
   "nbconvert_exporter": "python",
   "pygments_lexer": "ipython3",
   "version": "3.9.6"
  }
 },
 "nbformat": 4,
 "nbformat_minor": 5
}
